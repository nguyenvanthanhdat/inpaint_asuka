{
 "cells": [
  {
   "cell_type": "code",
   "execution_count": 1,
   "metadata": {},
   "outputs": [
    {
     "name": "stderr",
     "output_type": "stream",
     "text": [
      "/home/tiennv/.conda/envs/inpaint/lib/python3.11/site-packages/tqdm/auto.py:21: TqdmWarning: IProgress not found. Please update jupyter and ipywidgets. See https://ipywidgets.readthedocs.io/en/stable/user_install.html\n",
      "  from .autonotebook import tqdm as notebook_tqdm\n",
      "Fetching 23 files: 100%|██████████| 23/23 [00:00<00:00, 42799.02it/s]\n"
     ]
    },
    {
     "name": "stdout",
     "output_type": "stream",
     "text": [
      "Time taken to load the model:  160.9673788547516\n"
     ]
    },
    {
     "ename": "",
     "evalue": "",
     "output_type": "error",
     "traceback": [
      "\u001b[1;31mThe Kernel crashed while executing code in the current cell or a previous cell. \n",
      "\u001b[1;31mPlease review the code in the cell(s) to identify a possible cause of the failure. \n",
      "\u001b[1;31mClick <a href='https://aka.ms/vscodeJupyterKernelCrash'>here</a> for more info. \n",
      "\u001b[1;31mView Jupyter <a href='command:jupyter.viewOutput'>log</a> for further details."
     ]
    }
   ],
   "source": [
    "from optimum.onnxruntime import ORTStableDiffusionXLPipeline\n",
    "# from optimum.onnxruntime im\n",
    "import time\n",
    "start = time.time()\n",
    "model_id = \"stabilityai/stable-diffusion-xl-base-1.0\"\n",
    "base = ORTStableDiffusionXLPipeline.from_pretrained(\n",
    "    model_id, \n",
    "    # provider=\"CUDAExecutionProvider\",\n",
    "    device=\"cuda:1\"\n",
    ")\n",
    "end = time.time()\n",
    "print(\"Time taken to load the model: \", end-start)"
   ]
  },
  {
   "cell_type": "code",
   "execution_count": 4,
   "metadata": {},
   "outputs": [],
   "source": [
    "unet = base.unet\n",
    "del base"
   ]
  },
  {
   "cell_type": "code",
   "execution_count": null,
   "metadata": {},
   "outputs": [],
   "source": [
    "# sample shape: (2, 4, 128, 128)\n",
    "# timestep shape: (1,)\n",
    "# encoder_hidden_states shape: (2, 77, 2048)\n",
    "# text_embeds shape: (2, 1280)\n",
    "# time_ids shape: (2, 6)\n",
    "# --------------------\n",
    "# sample type: float32\n",
    "# timestep type: int64\n",
    "# encoder_hidden_states type: float32\n",
    "# text_embeds type: float32\n",
    "# time_ids type: float32"
   ]
  },
  {
   "cell_type": "code",
   "execution_count": 12,
   "metadata": {},
   "outputs": [
    {
     "name": "stdout",
     "output_type": "stream",
     "text": [
      "Time: 2.7880680561065674\n"
     ]
    }
   ],
   "source": [
    "import torch\n",
    "noisy_image = torch.randn(1, 4, 64, 64)\n",
    "# time_step = torch.randn(1)\n",
    "time_step = [5]\n",
    "prompt_embed = torch.randn(1, 77, 2048)\n",
    "pooled_output = torch.randn(1, 1280)\n",
    "add_time_ids = torch.randn(1, 6)\n",
    "unet_added_conditions = {\"time_ids\": add_time_ids}\n",
    "unet_added_conditions.update({\"text_embed\": pooled_output})\n",
    "\n",
    "input_unet = {\n",
    "    \"sample\": noisy_image,\n",
    "    \"timestep\": time_step,\n",
    "    \"encoder_hidden_states\": prompt_embed,\n",
    "    \"text_embeds\": pooled_output,\n",
    "    \"time_ids\": add_time_ids\n",
    "}\n",
    "\n",
    "# convert tensor to numpy array\n",
    "for key, value in input_unet.items():\n",
    "    try:\n",
    "        input_unet[key] = value.cpu().numpy()\n",
    "    except:\n",
    "        pass\n",
    "# convert timestep to int64\n",
    "# input_unet['timestep'] = input_unet['timestep'].astype('int64')\n",
    "import time\n",
    "start = time.time()\n",
    "output = unet(\n",
    "    sample=input_unet['sample'],\n",
    "    timestep=input_unet['timestep'],\n",
    "    encoder_hidden_states=input_unet['encoder_hidden_states'],\n",
    "    text_embeds=input_unet['text_embeds'],\n",
    "    time_ids=input_unet['time_ids'],\n",
    ")\n",
    "end = time.time()\n",
    "print(f\"Time: {end-start}\")"
   ]
  },
  {
   "cell_type": "code",
   "execution_count": 15,
   "metadata": {},
   "outputs": [
    {
     "data": {
      "text/plain": [
       "[array([[[[-9.31797266e-01, -1.54932383e-02, -9.62544829e-02, ...,\n",
       "            5.61438322e-01, -4.36396062e-01, -3.93198609e-01],\n",
       "          [-2.98084974e+00,  1.03432322e+00,  5.23259223e-01, ...,\n",
       "           -4.58927780e-01, -5.10520220e-01,  3.45975578e-01],\n",
       "          [ 2.17444682e+00,  1.77213252e-01, -5.20087183e-01, ...,\n",
       "           -7.84323588e-02,  1.91367960e+00,  3.62004265e-02],\n",
       "          ...,\n",
       "          [ 4.86770570e-01, -2.89057910e-01, -1.61813796e-01, ...,\n",
       "            1.01563859e+00,  1.23358659e-01,  3.90638560e-01],\n",
       "          [-2.07842201e-01,  9.20455083e-02,  1.22159779e-01, ...,\n",
       "           -1.98932600e+00,  2.65264392e-01, -9.83081162e-01],\n",
       "          [ 6.64047599e-01,  3.42296183e-01, -2.76596332e+00, ...,\n",
       "            2.10247850e+00, -1.82114053e+00,  1.83230698e-01]],\n",
       " \n",
       "         [[-1.56654000e-01,  2.61764669e+00, -8.10156703e-01, ...,\n",
       "           -4.75424618e-01, -1.17601347e+00,  1.57504749e+00],\n",
       "          [ 1.11268401e+00,  1.33206010e+00, -7.63212264e-01, ...,\n",
       "           -1.51985192e+00,  8.11228037e-01, -6.26760662e-01],\n",
       "          [ 6.82785153e-01,  2.86232066e+00, -1.38528848e+00, ...,\n",
       "            1.66390157e+00,  2.33768225e+00, -1.01353800e+00],\n",
       "          ...,\n",
       "          [-8.36788654e-01, -1.68191403e-01, -3.42929736e-03, ...,\n",
       "            1.91739738e-01,  2.45814666e-01,  1.51819050e+00],\n",
       "          [-6.40992522e-02,  2.17327431e-01, -8.98770243e-02, ...,\n",
       "            2.26138949e+00, -4.12962139e-01,  1.90359384e-01],\n",
       "          [ 2.64849275e-01, -9.77241516e-01, -8.92821610e-01, ...,\n",
       "            2.66864252e+00, -2.54310393e+00,  1.61637500e-01]],\n",
       " \n",
       "         [[-1.89969802e+00,  2.61272001e+00, -4.71808493e-01, ...,\n",
       "           -1.10743952e+00,  1.12320691e-01,  1.20151125e-01],\n",
       "          [-1.42468894e+00,  2.11849049e-01, -2.64035940e-01, ...,\n",
       "           -4.17680353e-01,  4.42037553e-01, -2.10910654e+00],\n",
       "          [ 9.93329287e-01,  3.85505939e+00, -6.25019670e-01, ...,\n",
       "            8.19642425e-01,  2.01326823e+00,  1.37248307e-01],\n",
       "          ...,\n",
       "          [ 2.55702078e-01, -5.78715682e-01,  2.97020137e-01, ...,\n",
       "           -5.48029065e-01,  7.79366195e-01,  4.99874204e-02],\n",
       "          [-2.47066095e-02,  9.08031762e-02, -6.60292581e-02, ...,\n",
       "            1.12842846e+00,  1.42003202e+00, -6.00530058e-02],\n",
       "          [ 3.18593591e-01,  3.20075989e-01, -1.74140424e-01, ...,\n",
       "           -3.40416193e-01, -2.49625826e+00, -8.09190392e-01]],\n",
       " \n",
       "         [[-2.72429967e+00, -3.71424365e+00, -1.31438494e+00, ...,\n",
       "            2.40663305e-01, -1.86656165e+00,  3.50922406e-01],\n",
       "          [ 3.52523780e+00, -1.15452886e-01,  1.00630736e+00, ...,\n",
       "            1.66351497e+00, -1.13420737e+00,  3.41825813e-01],\n",
       "          [-2.17432332e+00, -5.37696218e+00,  2.37173080e+00, ...,\n",
       "           -4.94039863e-01, -5.77806532e-01,  2.73774534e-01],\n",
       "          ...,\n",
       "          [ 1.53219116e+00, -1.22405124e+00,  5.72153032e-01, ...,\n",
       "           -2.34848285e+00,  1.26021779e+00, -9.74908233e-01],\n",
       "          [ 1.83065379e+00, -6.80963099e-01,  1.94987142e+00, ...,\n",
       "           -1.58583656e-01, -3.56202078e+00,  1.03619456e-01],\n",
       "          [-5.30493677e-01,  9.95550212e-03,  9.20266032e-01, ...,\n",
       "           -1.19844949e+00,  2.16029000e+00,  7.73016810e-02]]]],\n",
       "       dtype=float32)]"
      ]
     },
     "execution_count": 15,
     "metadata": {},
     "output_type": "execute_result"
    }
   ],
   "source": [
    "output "
   ]
  }
 ],
 "metadata": {
  "kernelspec": {
   "display_name": "inpaint",
   "language": "python",
   "name": "python3"
  },
  "language_info": {
   "codemirror_mode": {
    "name": "ipython",
    "version": 3
   },
   "file_extension": ".py",
   "mimetype": "text/x-python",
   "name": "python",
   "nbconvert_exporter": "python",
   "pygments_lexer": "ipython3",
   "version": "3.11.0"
  }
 },
 "nbformat": 4,
 "nbformat_minor": 2
}
