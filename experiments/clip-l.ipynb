{
 "cells": [
  {
   "cell_type": "code",
   "execution_count": 2,
   "metadata": {},
   "outputs": [
    {
     "name": "stderr",
     "output_type": "stream",
     "text": [
      "/home/tiennv/.conda/envs/inpaint/lib/python3.11/site-packages/tqdm/auto.py:21: TqdmWarning: IProgress not found. Please update jupyter and ipywidgets. See https://ipywidgets.readthedocs.io/en/stable/user_install.html\n",
      "  from .autonotebook import tqdm as notebook_tqdm\n",
      "/home/tiennv/.conda/envs/inpaint/lib/python3.11/site-packages/transformers/tokenization_utils_base.py:1601: FutureWarning: `clean_up_tokenization_spaces` was not set. It will be set to `True` by default. This behavior will be depracted in transformers v4.45, and will be then set to `False` by default. For more details check this issue: https://github.com/huggingface/transformers/issues/31884\n",
      "  warnings.warn(\n"
     ]
    },
    {
     "name": "stdout",
     "output_type": "stream",
     "text": [
      "odict_keys(['logits_per_image', 'logits_per_text', 'text_embeds', 'image_embeds', 'text_model_output', 'vision_model_output'])\n",
      "torch.Size([2, 768])\n"
     ]
    }
   ],
   "source": [
    "from PIL import Image\n",
    "import requests\n",
    "\n",
    "from transformers import CLIPProcessor, CLIPModel\n",
    "\n",
    "model = CLIPModel.from_pretrained(\"openai/clip-vit-large-patch14\")\n",
    "processor = CLIPProcessor.from_pretrained(\"openai/clip-vit-large-patch14\")\n",
    "\n",
    "url = \"http://images.cocodataset.org/val2017/000000039769.jpg\"\n",
    "image = Image.open(requests.get(url, stream=True).raw)\n",
    "\n",
    "inputs = processor(text=[\"a photo of a cat\", \"a photo of a dog\"], images=image, return_tensors=\"pt\", padding=True)\n",
    "\n",
    "outputs = model(**inputs)\n",
    "# logits_per_image = outputs.logits_per_image # this is the image-text similarity score\n",
    "# probs = logits_per_image.softmax(dim=1)\n",
    "print(outputs.keys())\n",
    "print(outputs.text_embeds.shape)"
   ]
  },
  {
   "cell_type": "code",
   "execution_count": 3,
   "metadata": {},
   "outputs": [
    {
     "name": "stderr",
     "output_type": "stream",
     "text": [
      "Loading checkpoint shards: 100%|██████████| 2/2 [00:04<00:00,  2.04s/it]\n"
     ]
    },
    {
     "name": "stdout",
     "output_type": "stream",
     "text": [
      "odict_keys(['logits_per_image', 'logits_per_text', 'text_embeds', 'image_embeds', 'text_model_output', 'vision_model_output'])\n",
      "torch.Size([2, 1280])\n"
     ]
    }
   ],
   "source": [
    "from PIL import Image\n",
    "import requests\n",
    "\n",
    "from transformers import CLIPProcessor, CLIPModel\n",
    "\n",
    "model = CLIPModel.from_pretrained(\"laion/CLIP-ViT-bigG-14-laion2B-39B-b160k\")\n",
    "processor = CLIPProcessor.from_pretrained(\"laion/CLIP-ViT-bigG-14-laion2B-39B-b160k\")\n",
    "\n",
    "url = \"http://images.cocodataset.org/val2017/000000039769.jpg\"\n",
    "image = Image.open(requests.get(url, stream=True).raw)\n",
    "\n",
    "inputs = processor(text=[\"a photo of a cat\", \"a photo of a dog\"], images=image, return_tensors=\"pt\", padding=True)\n",
    "\n",
    "outputs = model(**inputs)\n",
    "# logits_per_image = outputs.logits_per_image # this is the image-text similarity score\n",
    "# print(outputs.logits_per_image)\n",
    "# probs = logits_per_image.softmax(dim=1)\n",
    "print(outputs.keys())\n",
    "print(outputs.text_embeds.shape)"
   ]
  },
  {
   "cell_type": "code",
   "execution_count": 4,
   "metadata": {},
   "outputs": [
    {
     "name": "stderr",
     "output_type": "stream",
     "text": [
      "You are using a model of type clip_text_model to instantiate a model of type . This is not supported for all configurations of models and can yield errors.\n"
     ]
    }
   ],
   "source": [
    "from transformers import AutoTokenizer, PretrainedConfig\n",
    "def import_model_class_from_model_name_or_path(\n",
    "    pretrained_model_name_or_path: str, revision: str, subfolder: str = \"text_encoder\"\n",
    "):\n",
    "    text_encoder_config = PretrainedConfig.from_pretrained(\n",
    "        pretrained_model_name_or_path, subfolder=subfolder, revision=revision\n",
    "    )\n",
    "    model_class = text_encoder_config.architectures[0]\n",
    "\n",
    "    if model_class == \"CLIPTextModel\":\n",
    "        from transformers import CLIPTextModel\n",
    "\n",
    "        return CLIPTextModel\n",
    "    elif model_class == \"CLIPTextModelWithProjection\":\n",
    "        from transformers import CLIPTextModelWithProjection\n",
    "\n",
    "        return CLIPTextModelWithProjection\n",
    "    else:\n",
    "        raise ValueError(f\"{model_class} is not supported.\")\n",
    "pretrained_model_name_or_path = \"stabilityai/stable-diffusion-xl-base-1.0\"\n",
    "revision = None\n",
    "variant = None\n",
    "text_encoder_cls_two = import_model_class_from_model_name_or_path(\n",
    "    pretrained_model_name_or_path, revision, subfolder=\"text_encoder_2\"\n",
    ")\n",
    "text_encoder_two = text_encoder_cls_two.from_pretrained(\n",
    "    pretrained_model_name_or_path, subfolder=\"text_encoder_2\", revision=revision, variant=variant\n",
    ")"
   ]
  },
  {
   "cell_type": "code",
   "execution_count": 5,
   "metadata": {},
   "outputs": [
    {
     "name": "stdout",
     "output_type": "stream",
     "text": [
      "<bound method PreTrainedModel.get_output_embeddings of CLIPTextModelWithProjection(\n",
      "  (text_model): CLIPTextTransformer(\n",
      "    (embeddings): CLIPTextEmbeddings(\n",
      "      (token_embedding): Embedding(49408, 1280)\n",
      "      (position_embedding): Embedding(77, 1280)\n",
      "    )\n",
      "    (encoder): CLIPEncoder(\n",
      "      (layers): ModuleList(\n",
      "        (0-31): 32 x CLIPEncoderLayer(\n",
      "          (self_attn): CLIPSdpaAttention(\n",
      "            (k_proj): Linear(in_features=1280, out_features=1280, bias=True)\n",
      "            (v_proj): Linear(in_features=1280, out_features=1280, bias=True)\n",
      "            (q_proj): Linear(in_features=1280, out_features=1280, bias=True)\n",
      "            (out_proj): Linear(in_features=1280, out_features=1280, bias=True)\n",
      "          )\n",
      "          (layer_norm1): LayerNorm((1280,), eps=1e-05, elementwise_affine=True)\n",
      "          (mlp): CLIPMLP(\n",
      "            (activation_fn): GELUActivation()\n",
      "            (fc1): Linear(in_features=1280, out_features=5120, bias=True)\n",
      "            (fc2): Linear(in_features=5120, out_features=1280, bias=True)\n",
      "          )\n",
      "          (layer_norm2): LayerNorm((1280,), eps=1e-05, elementwise_affine=True)\n",
      "        )\n",
      "      )\n",
      "    )\n",
      "    (final_layer_norm): LayerNorm((1280,), eps=1e-05, elementwise_affine=True)\n",
      "  )\n",
      "  (text_projection): Linear(in_features=1280, out_features=1280, bias=False)\n",
      ")>\n"
     ]
    }
   ],
   "source": [
    "print(text_encoder_two.get_output_embeddings)"
   ]
  },
  {
   "cell_type": "code",
   "execution_count": 6,
   "metadata": {},
   "outputs": [
    {
     "name": "stderr",
     "output_type": "stream",
     "text": [
      "Fast image processor class <class 'transformers.models.vit.image_processing_vit_fast.ViTImageProcessorFast'> is available for this model. Using slow image processor class. To use the fast image processor class set `use_fast=True`.\n"
     ]
    },
    {
     "name": "stdout",
     "output_type": "stream",
     "text": [
      "torch.Size([1, 196, 768])\n"
     ]
    }
   ],
   "source": [
    "from transformers import AutoImageProcessor, ViTMAEForPreTraining\n",
    "from PIL import Image\n",
    "import requests\n",
    "\n",
    "url = 'http://images.cocodataset.org/val2017/000000039769.jpg'\n",
    "image = Image.open(requests.get(url, stream=True).raw)\n",
    "\n",
    "processor = AutoImageProcessor.from_pretrained('facebook/vit-mae-base')\n",
    "model = ViTMAEForPreTraining.from_pretrained('facebook/vit-mae-base')\n",
    "\n",
    "inputs = processor(images=image, return_tensors=\"pt\")\n",
    "outputs = model(**inputs)\n",
    "# print(outputs.keys())\n",
    "print(outputs.logits.shape)"
   ]
  },
  {
   "cell_type": "code",
   "execution_count": 7,
   "metadata": {},
   "outputs": [
    {
     "name": "stderr",
     "output_type": "stream",
     "text": [
      "Fast image processor class <class 'transformers.models.vit.image_processing_vit_fast.ViTImageProcessorFast'> is available for this model. Using slow image processor class. To use the fast image processor class set `use_fast=True`.\n"
     ]
    },
    {
     "name": "stdout",
     "output_type": "stream",
     "text": [
      "torch.Size([1, 196, 768])\n"
     ]
    }
   ],
   "source": [
    "from transformers import AutoImageProcessor, ViTMAEForPreTraining\n",
    "from PIL import Image\n",
    "import requests\n",
    "\n",
    "url = 'http://images.cocodataset.org/val2017/000000039769.jpg'\n",
    "image = Image.open(requests.get(url, stream=True).raw)\n",
    "\n",
    "processor = AutoImageProcessor.from_pretrained('facebook/vit-mae-large')\n",
    "model = ViTMAEForPreTraining.from_pretrained('facebook/vit-mae-large')\n",
    "\n",
    "inputs = processor(images=image, return_tensors=\"pt\")\n",
    "outputs = model(**inputs)\n",
    "# print(outputs.keys())\n",
    "print(outputs.logits.shape)\n",
    "# loss = outputs.loss\n",
    "# mask = outputs.mask\n",
    "# ids_restore = outputs.ids_restore"
   ]
  },
  {
   "cell_type": "code",
   "execution_count": 8,
   "metadata": {},
   "outputs": [
    {
     "name": "stderr",
     "output_type": "stream",
     "text": [
      "Fast image processor class <class 'transformers.models.vit.image_processing_vit_fast.ViTImageProcessorFast'> is available for this model. Using slow image processor class. To use the fast image processor class set `use_fast=True`.\n"
     ]
    },
    {
     "name": "stdout",
     "output_type": "stream",
     "text": [
      "torch.Size([1, 256, 588])\n"
     ]
    }
   ],
   "source": [
    "from transformers import AutoImageProcessor, ViTMAEForPreTraining\n",
    "from PIL import Image\n",
    "import requests\n",
    "\n",
    "url = 'http://images.cocodataset.org/val2017/000000039769.jpg'\n",
    "image = Image.open(requests.get(url, stream=True).raw)\n",
    "\n",
    "processor = AutoImageProcessor.from_pretrained('facebook/vit-mae-huge')\n",
    "model = ViTMAEForPreTraining.from_pretrained('facebook/vit-mae-huge')\n",
    "\n",
    "inputs = processor(images=image, return_tensors=\"pt\")\n",
    "outputs = model(**inputs)\n",
    "print(outputs.logits.shape)"
   ]
  },
  {
   "cell_type": "code",
   "execution_count": 14,
   "metadata": {},
   "outputs": [
    {
     "name": "stderr",
     "output_type": "stream",
     "text": [
      "You are using a model of type clip_text_model to instantiate a model of type . This is not supported for all configurations of models and can yield errors.\n"
     ]
    },
    {
     "name": "stdout",
     "output_type": "stream",
     "text": [
      "77\n",
      "odict_keys(['last_hidden_state', 'pooler_output', 'hidden_states'])\n",
      "bs_embeds: 2, seq_len: 77\n",
      "prompt_embeds: torch.Size([2, 77, 1280])\n",
      "pooled_prompt_embeds: torch.Size([2, 77, 1280])\n",
      "prompt_embeds: torch.Size([2, 77, 1280])\n",
      "pooled_prompt_embeds: torch.Size([2, 98560])\n"
     ]
    }
   ],
   "source": [
    "tokenizer_two = AutoTokenizer.from_pretrained(\n",
    "    pretrained_model_name_or_path,\n",
    "    subfolder=\"tokenizer_2\",\n",
    "    revision=revision,\n",
    "    use_fast=False,\n",
    ")\n",
    "text_encoder_cls_one = import_model_class_from_model_name_or_path(\n",
    "    pretrained_model_name_or_path, revision\n",
    ")\n",
    "text_encoder_one = text_encoder_cls_one.from_pretrained(\n",
    "    pretrained_model_name_or_path, subfolder=\"text_encoder_2\", revision=revision, variant=variant\n",
    ")\n",
    "print(tokenizer_two.model_max_length)\n",
    "test_text = \"this is a test text for the tokenizer\" * 100\n",
    "test_input = [test_text, test_text]\n",
    "text_inputs = tokenizer_two(test_input, return_tensors=\"pt\", padding=\"max_length\", max_length=tokenizer_two.model_max_length, truncation=True)\n",
    "# print(inputs['input_ids'])\n",
    "text_input_ids = text_inputs.input_ids\n",
    "prompt_embeds = text_encoder_one(\n",
    "    text_input_ids.to(text_encoder_one.device),\n",
    "    output_hidden_states=True,\n",
    ")\n",
    "print(prompt_embeds.keys())\n",
    "pooled_prompt_embeds = prompt_embeds[0]\n",
    "prompt_embeds = prompt_embeds[-1][-2]\n",
    "bs_embed, seq_len, _ = prompt_embeds.shape\n",
    "prompt_embeds = prompt_embeds.view(bs_embed, seq_len, -1)\n",
    "print(f\"bs_embeds: {bs_embed}, seq_len: {seq_len}\")\n",
    "print(f\"prompt_embeds: {prompt_embeds.shape}\")\n",
    "print(f\"pooled_prompt_embeds: {pooled_prompt_embeds.shape}\")\n",
    "prompt_embeds = prompt_embeds.view(bs_embed, seq_len, -1)\n",
    "print(f\"prompt_embeds: {prompt_embeds.shape}\")\n",
    "# prompt_embeds[0].shape\n",
    "pooled_prompt_embeds = pooled_prompt_embeds.view(bs_embed, -1)\n",
    "print(f\"pooled_prompt_embeds: {pooled_prompt_embeds.shape}\")"
   ]
  }
 ],
 "metadata": {
  "kernelspec": {
   "display_name": "inpaint",
   "language": "python",
   "name": "python3"
  },
  "language_info": {
   "codemirror_mode": {
    "name": "ipython",
    "version": 3
   },
   "file_extension": ".py",
   "mimetype": "text/x-python",
   "name": "python",
   "nbconvert_exporter": "python",
   "pygments_lexer": "ipython3",
   "version": "3.11.0"
  }
 },
 "nbformat": 4,
 "nbformat_minor": 2
}
