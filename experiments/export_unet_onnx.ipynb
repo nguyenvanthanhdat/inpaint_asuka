{
 "cells": [
  {
   "cell_type": "code",
   "execution_count": 2,
   "metadata": {},
   "outputs": [],
   "source": [
    "# from diffusers.pipelines import StableDiffusionXL\n",
    "# from optimum.exporters.onnx import main_export\n",
    "# from transformers import CLIPTextModel, CLIPTextModelWithProjection\n",
    "# from diffusers import UNet2DConditionModel\n",
    "# import torch"
   ]
  },
  {
   "cell_type": "code",
   "execution_count": 1,
   "metadata": {},
   "outputs": [
    {
     "name": "stderr",
     "output_type": "stream",
     "text": [
      "/home/tiennv/.conda/envs/inpaint/lib/python3.11/site-packages/tqdm/auto.py:21: TqdmWarning: IProgress not found. Please update jupyter and ipywidgets. See https://ipywidgets.readthedocs.io/en/stable/user_install.html\n",
      "  from .autonotebook import tqdm as notebook_tqdm\n",
      "Fetching 23 files: 100%|██████████| 23/23 [00:00<00:00, 12933.23it/s]\n",
      "  0%|          | 0/50 [00:00<?, ?it/s]"
     ]
    },
    {
     "name": "stdout",
     "output_type": "stream",
     "text": [
      "sample shape: (2, 4, 128, 128)\n",
      "timestep shape: (1,)\n",
      "encoder_hidden_states shape: (2, 77, 2048)\n",
      "text_embeds shape: (2, 1280)\n",
      "time_ids shape: (2, 6)\n",
      "--------------------\n",
      "sample type: float32\n",
      "timestep type: int64\n",
      "encoder_hidden_states type: float32\n",
      "text_embeds type: float32\n",
      "time_ids type: float32\n"
     ]
    },
    {
     "name": "stderr",
     "output_type": "stream",
     "text": [
      "  2%|▏         | 1/50 [00:39<31:55, 39.10s/it]"
     ]
    },
    {
     "name": "stdout",
     "output_type": "stream",
     "text": [
      "sample shape: (2, 4, 128, 128)\n",
      "timestep shape: (1,)\n",
      "encoder_hidden_states shape: (2, 77, 2048)\n",
      "text_embeds shape: (2, 1280)\n",
      "time_ids shape: (2, 6)\n",
      "--------------------\n",
      "sample type: float32\n",
      "timestep type: int64\n",
      "encoder_hidden_states type: float32\n",
      "text_embeds type: float32\n",
      "time_ids type: float32\n"
     ]
    },
    {
     "name": "stderr",
     "output_type": "stream",
     "text": [
      "  4%|▍         | 2/50 [01:16<30:31, 38.16s/it]"
     ]
    },
    {
     "name": "stdout",
     "output_type": "stream",
     "text": [
      "sample shape: (2, 4, 128, 128)\n",
      "timestep shape: (1,)\n",
      "encoder_hidden_states shape: (2, 77, 2048)\n",
      "text_embeds shape: (2, 1280)\n",
      "time_ids shape: (2, 6)\n",
      "--------------------\n",
      "sample type: float32\n",
      "timestep type: int64\n",
      "encoder_hidden_states type: float32\n",
      "text_embeds type: float32\n",
      "time_ids type: float32\n"
     ]
    },
    {
     "name": "stderr",
     "output_type": "stream",
     "text": [
      "  6%|▌         | 3/50 [01:56<30:22, 38.78s/it]"
     ]
    },
    {
     "name": "stdout",
     "output_type": "stream",
     "text": [
      "sample shape: (2, 4, 128, 128)\n",
      "timestep shape: (1,)\n",
      "encoder_hidden_states shape: (2, 77, 2048)\n",
      "text_embeds shape: (2, 1280)\n",
      "time_ids shape: (2, 6)\n",
      "--------------------\n",
      "sample type: float32\n",
      "timestep type: int64\n",
      "encoder_hidden_states type: float32\n",
      "text_embeds type: float32\n",
      "time_ids type: float32\n"
     ]
    },
    {
     "name": "stderr",
     "output_type": "stream",
     "text": [
      "  8%|▊         | 4/50 [02:34<29:31, 38.52s/it]"
     ]
    },
    {
     "name": "stdout",
     "output_type": "stream",
     "text": [
      "sample shape: (2, 4, 128, 128)\n",
      "timestep shape: (1,)\n",
      "encoder_hidden_states shape: (2, 77, 2048)\n",
      "text_embeds shape: (2, 1280)\n",
      "time_ids shape: (2, 6)\n",
      "--------------------\n",
      "sample type: float32\n",
      "timestep type: int64\n",
      "encoder_hidden_states type: float32\n",
      "text_embeds type: float32\n",
      "time_ids type: float32\n"
     ]
    },
    {
     "name": "stderr",
     "output_type": "stream",
     "text": [
      " 10%|█         | 5/50 [03:13<29:10, 38.90s/it]"
     ]
    },
    {
     "name": "stdout",
     "output_type": "stream",
     "text": [
      "sample shape: (2, 4, 128, 128)\n",
      "timestep shape: (1,)\n",
      "encoder_hidden_states shape: (2, 77, 2048)\n",
      "text_embeds shape: (2, 1280)\n",
      "time_ids shape: (2, 6)\n",
      "--------------------\n",
      "sample type: float32\n",
      "timestep type: int64\n",
      "encoder_hidden_states type: float32\n",
      "text_embeds type: float32\n",
      "time_ids type: float32\n"
     ]
    },
    {
     "name": "stderr",
     "output_type": "stream",
     "text": [
      " 12%|█▏        | 6/50 [03:54<29:02, 39.61s/it]"
     ]
    },
    {
     "name": "stdout",
     "output_type": "stream",
     "text": [
      "sample shape: (2, 4, 128, 128)\n",
      "timestep shape: (1,)\n",
      "encoder_hidden_states shape: (2, 77, 2048)\n",
      "text_embeds shape: (2, 1280)\n",
      "time_ids shape: (2, 6)\n",
      "--------------------\n",
      "sample type: float32\n",
      "timestep type: int64\n",
      "encoder_hidden_states type: float32\n",
      "text_embeds type: float32\n",
      "time_ids type: float32\n"
     ]
    },
    {
     "name": "stderr",
     "output_type": "stream",
     "text": [
      " 14%|█▍        | 7/50 [04:32<27:58, 39.04s/it]"
     ]
    },
    {
     "name": "stdout",
     "output_type": "stream",
     "text": [
      "sample shape: (2, 4, 128, 128)\n",
      "timestep shape: (1,)\n",
      "encoder_hidden_states shape: (2, 77, 2048)\n",
      "text_embeds shape: (2, 1280)\n",
      "time_ids shape: (2, 6)\n",
      "--------------------\n",
      "sample type: float32\n",
      "timestep type: int64\n",
      "encoder_hidden_states type: float32\n",
      "text_embeds type: float32\n",
      "time_ids type: float32\n"
     ]
    },
    {
     "name": "stderr",
     "output_type": "stream",
     "text": [
      " 16%|█▌        | 8/50 [05:10<27:02, 38.62s/it]"
     ]
    },
    {
     "name": "stdout",
     "output_type": "stream",
     "text": [
      "sample shape: (2, 4, 128, 128)\n",
      "timestep shape: (1,)\n",
      "encoder_hidden_states shape: (2, 77, 2048)\n",
      "text_embeds shape: (2, 1280)\n",
      "time_ids shape: (2, 6)\n",
      "--------------------\n",
      "sample type: float32\n",
      "timestep type: int64\n",
      "encoder_hidden_states type: float32\n",
      "text_embeds type: float32\n",
      "time_ids type: float32\n"
     ]
    },
    {
     "name": "stderr",
     "output_type": "stream",
     "text": [
      " 18%|█▊        | 9/50 [05:48<26:11, 38.34s/it]"
     ]
    },
    {
     "name": "stdout",
     "output_type": "stream",
     "text": [
      "sample shape: (2, 4, 128, 128)\n",
      "timestep shape: (1,)\n",
      "encoder_hidden_states shape: (2, 77, 2048)\n",
      "text_embeds shape: (2, 1280)\n",
      "time_ids shape: (2, 6)\n",
      "--------------------\n",
      "sample type: float32\n",
      "timestep type: int64\n",
      "encoder_hidden_states type: float32\n",
      "text_embeds type: float32\n",
      "time_ids type: float32\n"
     ]
    }
   ],
   "source": [
    "from optimum.onnxruntime import ORTStableDiffusionXLPipeline\n",
    "\n",
    "model_id = \"stabilityai/stable-diffusion-xl-base-1.0\"\n",
    "base = ORTStableDiffusionXLPipeline.from_pretrained(\n",
    "    model_id, \n",
    "    # provider=\"CUDAExecutionProvider\",\n",
    "    device=\"cuda:0\"\n",
    ")\n",
    "prompt = \"sailing ship in storm by Leonardo da Vinci\"\n",
    "image = base(prompt).images[0]"
   ]
  },
  {
   "cell_type": "code",
   "execution_count": 5,
   "metadata": {},
   "outputs": [],
   "source": [
    "# image"
   ]
  },
  {
   "cell_type": "code",
   "execution_count": 3,
   "metadata": {},
   "outputs": [],
   "source": [
    "# save_directory = \"sd_xl_base\"\n",
    "# base.save_pretrained(save_directory)"
   ]
  }
 ],
 "metadata": {
  "kernelspec": {
   "display_name": "inpaint",
   "language": "python",
   "name": "python3"
  },
  "language_info": {
   "codemirror_mode": {
    "name": "ipython",
    "version": 3
   },
   "file_extension": ".py",
   "mimetype": "text/x-python",
   "name": "python",
   "nbconvert_exporter": "python",
   "pygments_lexer": "ipython3",
   "version": "3.11.0"
  }
 },
 "nbformat": 4,
 "nbformat_minor": 2
}
